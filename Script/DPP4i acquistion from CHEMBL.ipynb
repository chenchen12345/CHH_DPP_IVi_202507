{
 "cells": [
  {
   "cell_type": "code",
   "execution_count": 6,
   "id": "be25cfaf-862f-4927-92c1-08f077c0362c",
   "metadata": {},
   "outputs": [
    {
     "name": "stderr",
     "output_type": "stream",
     "text": [
      "c:\\Users\\18770\\.conda\\envs\\aidd\\lib\\site-packages\\tqdm\\auto.py:21: TqdmWarning: IProgress not found. Please update jupyter and ipywidgets. See https://ipywidgets.readthedocs.io/en/stable/user_install.html\n",
      "  from .autonotebook import tqdm as notebook_tqdm\n"
     ]
    }
   ],
   "source": [
    "import math\n",
    "from pathlib import Path\n",
    "from zipfile import ZipFile\n",
    "from tempfile import TemporaryDirectory\n",
    "\n",
    "import numpy as np\n",
    "import pandas as pd\n",
    "from rdkit.Chem import PandasTools\n",
    "from chembl_webresource_client.new_client import new_client\n",
    "from tqdm.auto import tqdm"
   ]
  },
  {
   "cell_type": "code",
   "execution_count": 7,
   "id": "f0fa0ffa-33c9-49b2-abcb-b0263fb9a2df",
   "metadata": {},
   "outputs": [],
   "source": [
    "HERE = Path(_dh[-1])\n",
    "DATA = HERE / \"data\""
   ]
  },
  {
   "cell_type": "code",
   "execution_count": 8,
   "id": "dd82a9e0-fc92-45bc-8764-08f96838aee8",
   "metadata": {},
   "outputs": [],
   "source": [
    "targets_api = new_client.target\n",
    "compounds_api = new_client.molecule\n",
    "bioactivities_api = new_client.activity"
   ]
  },
  {
   "cell_type": "code",
   "execution_count": 9,
   "id": "d4c788ef-3df7-4ecf-9ec0-874c1fcb66e5",
   "metadata": {},
   "outputs": [
    {
     "data": {
      "text/plain": [
       "chembl_webresource_client.query_set.QuerySet"
      ]
     },
     "execution_count": 9,
     "metadata": {},
     "output_type": "execute_result"
    }
   ],
   "source": [
    "type(targets_api)"
   ]
  },
  {
   "cell_type": "code",
   "execution_count": 10,
   "id": "b08e8c9d-f426-4cc4-8ef5-5d9785a138da",
   "metadata": {},
   "outputs": [],
   "source": [
    "uniprot_id = \"P27487\""
   ]
  },
  {
   "cell_type": "code",
   "execution_count": 11,
   "id": "10bc135d-2559-4392-9361-4014f7e447e6",
   "metadata": {},
   "outputs": [
    {
     "name": "stdout",
     "output_type": "stream",
     "text": [
      "The type of the targets is \"<class 'chembl_webresource_client.query_set.QuerySet'>\"\n"
     ]
    }
   ],
   "source": [
    "# Get target information from ChEMBL but restrict it to specified values only\n",
    "targets = targets_api.get(target_components__accession=uniprot_id).only(\n",
    "    \"target_chembl_id\", \"organism\", \"pref_name\", \"target_type\"\n",
    ")\n",
    "print(f'The type of the targets is \"{type(targets)}\"')"
   ]
  },
  {
   "cell_type": "code",
   "execution_count": 12,
   "id": "d2ceba18-fb45-47ff-b81d-5fcc60ea1661",
   "metadata": {},
   "outputs": [
    {
     "data": {
      "text/html": [
       "<div>\n",
       "<style scoped>\n",
       "    .dataframe tbody tr th:only-of-type {\n",
       "        vertical-align: middle;\n",
       "    }\n",
       "\n",
       "    .dataframe tbody tr th {\n",
       "        vertical-align: top;\n",
       "    }\n",
       "\n",
       "    .dataframe thead th {\n",
       "        text-align: right;\n",
       "    }\n",
       "</style>\n",
       "<table border=\"1\" class=\"dataframe\">\n",
       "  <thead>\n",
       "    <tr style=\"text-align: right;\">\n",
       "      <th></th>\n",
       "      <th>organism</th>\n",
       "      <th>pref_name</th>\n",
       "      <th>target_chembl_id</th>\n",
       "      <th>target_type</th>\n",
       "    </tr>\n",
       "  </thead>\n",
       "  <tbody>\n",
       "    <tr>\n",
       "      <th>0</th>\n",
       "      <td>Homo sapiens</td>\n",
       "      <td>Dipeptidyl peptidase IV</td>\n",
       "      <td>CHEMBL284</td>\n",
       "      <td>SINGLE PROTEIN</td>\n",
       "    </tr>\n",
       "    <tr>\n",
       "      <th>1</th>\n",
       "      <td>Homo sapiens</td>\n",
       "      <td>Dipeptidyl peptidase IV</td>\n",
       "      <td>CHEMBL284</td>\n",
       "      <td>SINGLE PROTEIN</td>\n",
       "    </tr>\n",
       "    <tr>\n",
       "      <th>2</th>\n",
       "      <td>Homo sapiens</td>\n",
       "      <td>Dipeptidyl peptidase II and dipeptidyl peptida...</td>\n",
       "      <td>CHEMBL2111469</td>\n",
       "      <td>SELECTIVITY GROUP</td>\n",
       "    </tr>\n",
       "  </tbody>\n",
       "</table>\n",
       "</div>"
      ],
      "text/plain": [
       "       organism                                          pref_name  \\\n",
       "0  Homo sapiens                            Dipeptidyl peptidase IV   \n",
       "1  Homo sapiens                            Dipeptidyl peptidase IV   \n",
       "2  Homo sapiens  Dipeptidyl peptidase II and dipeptidyl peptida...   \n",
       "\n",
       "  target_chembl_id        target_type  \n",
       "0        CHEMBL284     SINGLE PROTEIN  \n",
       "1        CHEMBL284     SINGLE PROTEIN  \n",
       "2    CHEMBL2111469  SELECTIVITY GROUP  "
      ]
     },
     "execution_count": 12,
     "metadata": {},
     "output_type": "execute_result"
    }
   ],
   "source": [
    "targets = pd.DataFrame.from_records(targets)\n",
    "targets"
   ]
  },
  {
   "cell_type": "code",
   "execution_count": 13,
   "id": "d3dac515-8268-49b1-9867-2898cdc6d3a1",
   "metadata": {},
   "outputs": [
    {
     "data": {
      "text/plain": [
       "organism                       Homo sapiens\n",
       "pref_name           Dipeptidyl peptidase IV\n",
       "target_chembl_id                  CHEMBL284\n",
       "target_type                  SINGLE PROTEIN\n",
       "Name: 0, dtype: object"
      ]
     },
     "execution_count": 13,
     "metadata": {},
     "output_type": "execute_result"
    }
   ],
   "source": [
    "target = targets.iloc[0]\n",
    "target"
   ]
  },
  {
   "cell_type": "code",
   "execution_count": 14,
   "id": "a84ee07a-3554-4907-9677-a92abf3d6146",
   "metadata": {},
   "outputs": [
    {
     "name": "stdout",
     "output_type": "stream",
     "text": [
      "The target ChEMBL ID is CHEMBL284\n"
     ]
    }
   ],
   "source": [
    "chembl_id = target.target_chembl_id\n",
    "print(f\"The target ChEMBL ID is {chembl_id}\")\n",
    "# NBVAL_CHECK_OUTPUT"
   ]
  },
  {
   "cell_type": "code",
   "execution_count": 15,
   "id": "3a938737-f3cd-45eb-813f-68424b612d94",
   "metadata": {},
   "outputs": [
    {
     "name": "stdout",
     "output_type": "stream",
     "text": [
      "Length and type of bioactivities object: 4506, <class 'chembl_webresource_client.query_set.QuerySet'>\n"
     ]
    }
   ],
   "source": [
    "bioactivities = bioactivities_api.filter(\n",
    "    target_chembl_id=chembl_id, type=\"IC50\", relation=\"=\", assay_type=\"B\"\n",
    ").only(\n",
    "    \"activity_id\",\n",
    "    \"assay_chembl_id\",\n",
    "    \"assay_description\",\n",
    "    \"assay_type\",\n",
    "    \"molecule_chembl_id\",\n",
    "    \"type\",\n",
    "    \"standard_units\",\n",
    "    \"relation\",\n",
    "    \"standard_value\",\n",
    "    \"target_chembl_id\",\n",
    "    \"target_organism\",\n",
    ")\n",
    "\n",
    "print(f\"Length and type of bioactivities object: {len(bioactivities)}, {type(bioactivities)}\")"
   ]
  },
  {
   "cell_type": "code",
   "execution_count": 17,
   "id": "412b50ef-5fa1-4b91-88e5-b2f492e526c6",
   "metadata": {},
   "outputs": [
    {
     "name": "stdout",
     "output_type": "stream",
     "text": [
      "Length and type of first element: 13, <class 'dict'>\n"
     ]
    },
    {
     "data": {
      "text/plain": [
       "{'activity_id': 105501,\n",
       " 'assay_chembl_id': 'CHEMBL666573',\n",
       " 'assay_description': 'In vitro inhibition of human Dipeptidylpeptidase IV.',\n",
       " 'assay_type': 'B',\n",
       " 'molecule_chembl_id': 'CHEMBL93558',\n",
       " 'relation': '=',\n",
       " 'standard_units': 'nM',\n",
       " 'standard_value': '217000.0',\n",
       " 'target_chembl_id': 'CHEMBL284',\n",
       " 'target_organism': 'Homo sapiens',\n",
       " 'type': 'IC50',\n",
       " 'units': 'uM',\n",
       " 'value': '217.0'}"
      ]
     },
     "execution_count": 17,
     "metadata": {},
     "output_type": "execute_result"
    }
   ],
   "source": [
    "print(f\"Length and type of first element: {len(bioactivities[0])}, {type(bioactivities[0])}\")\n",
    "bioactivities[0]"
   ]
  },
  {
   "cell_type": "code",
   "execution_count": 18,
   "id": "abe85fe7-dc05-4843-8345-9f45a9c67281",
   "metadata": {},
   "outputs": [
    {
     "name": "stdout",
     "output_type": "stream",
     "text": [
      "DataFrame shape: (4506, 13)\n"
     ]
    },
    {
     "data": {
      "text/html": [
       "<div>\n",
       "<style scoped>\n",
       "    .dataframe tbody tr th:only-of-type {\n",
       "        vertical-align: middle;\n",
       "    }\n",
       "\n",
       "    .dataframe tbody tr th {\n",
       "        vertical-align: top;\n",
       "    }\n",
       "\n",
       "    .dataframe thead th {\n",
       "        text-align: right;\n",
       "    }\n",
       "</style>\n",
       "<table border=\"1\" class=\"dataframe\">\n",
       "  <thead>\n",
       "    <tr style=\"text-align: right;\">\n",
       "      <th></th>\n",
       "      <th>activity_id</th>\n",
       "      <th>assay_chembl_id</th>\n",
       "      <th>assay_description</th>\n",
       "      <th>assay_type</th>\n",
       "      <th>molecule_chembl_id</th>\n",
       "      <th>relation</th>\n",
       "      <th>standard_units</th>\n",
       "      <th>standard_value</th>\n",
       "      <th>target_chembl_id</th>\n",
       "      <th>target_organism</th>\n",
       "      <th>type</th>\n",
       "      <th>units</th>\n",
       "      <th>value</th>\n",
       "    </tr>\n",
       "  </thead>\n",
       "  <tbody>\n",
       "    <tr>\n",
       "      <th>0</th>\n",
       "      <td>105501</td>\n",
       "      <td>CHEMBL666573</td>\n",
       "      <td>In vitro inhibition of human Dipeptidylpeptida...</td>\n",
       "      <td>B</td>\n",
       "      <td>CHEMBL93558</td>\n",
       "      <td>=</td>\n",
       "      <td>nM</td>\n",
       "      <td>217000.0</td>\n",
       "      <td>CHEMBL284</td>\n",
       "      <td>Homo sapiens</td>\n",
       "      <td>IC50</td>\n",
       "      <td>uM</td>\n",
       "      <td>217.0</td>\n",
       "    </tr>\n",
       "    <tr>\n",
       "      <th>1</th>\n",
       "      <td>106644</td>\n",
       "      <td>CHEMBL666573</td>\n",
       "      <td>In vitro inhibition of human Dipeptidylpeptida...</td>\n",
       "      <td>B</td>\n",
       "      <td>CHEMBL443622</td>\n",
       "      <td>=</td>\n",
       "      <td>nM</td>\n",
       "      <td>41000.0</td>\n",
       "      <td>CHEMBL284</td>\n",
       "      <td>Homo sapiens</td>\n",
       "      <td>IC50</td>\n",
       "      <td>uM</td>\n",
       "      <td>41.0</td>\n",
       "    </tr>\n",
       "    <tr>\n",
       "      <th>2</th>\n",
       "      <td>106647</td>\n",
       "      <td>CHEMBL666573</td>\n",
       "      <td>In vitro inhibition of human Dipeptidylpeptida...</td>\n",
       "      <td>B</td>\n",
       "      <td>CHEMBL403882</td>\n",
       "      <td>=</td>\n",
       "      <td>nM</td>\n",
       "      <td>15000.0</td>\n",
       "      <td>CHEMBL284</td>\n",
       "      <td>Homo sapiens</td>\n",
       "      <td>IC50</td>\n",
       "      <td>uM</td>\n",
       "      <td>15.0</td>\n",
       "    </tr>\n",
       "    <tr>\n",
       "      <th>3</th>\n",
       "      <td>108924</td>\n",
       "      <td>CHEMBL666573</td>\n",
       "      <td>In vitro inhibition of human Dipeptidylpeptida...</td>\n",
       "      <td>B</td>\n",
       "      <td>CHEMBL328795</td>\n",
       "      <td>=</td>\n",
       "      <td>nM</td>\n",
       "      <td>188000.0</td>\n",
       "      <td>CHEMBL284</td>\n",
       "      <td>Homo sapiens</td>\n",
       "      <td>IC50</td>\n",
       "      <td>uM</td>\n",
       "      <td>188.0</td>\n",
       "    </tr>\n",
       "    <tr>\n",
       "      <th>4</th>\n",
       "      <td>111620</td>\n",
       "      <td>CHEMBL666573</td>\n",
       "      <td>In vitro inhibition of human Dipeptidylpeptida...</td>\n",
       "      <td>B</td>\n",
       "      <td>CHEMBL97674</td>\n",
       "      <td>=</td>\n",
       "      <td>nM</td>\n",
       "      <td>247000.0</td>\n",
       "      <td>CHEMBL284</td>\n",
       "      <td>Homo sapiens</td>\n",
       "      <td>IC50</td>\n",
       "      <td>uM</td>\n",
       "      <td>247.0</td>\n",
       "    </tr>\n",
       "  </tbody>\n",
       "</table>\n",
       "</div>"
      ],
      "text/plain": [
       "   activity_id assay_chembl_id  \\\n",
       "0       105501    CHEMBL666573   \n",
       "1       106644    CHEMBL666573   \n",
       "2       106647    CHEMBL666573   \n",
       "3       108924    CHEMBL666573   \n",
       "4       111620    CHEMBL666573   \n",
       "\n",
       "                                   assay_description assay_type  \\\n",
       "0  In vitro inhibition of human Dipeptidylpeptida...          B   \n",
       "1  In vitro inhibition of human Dipeptidylpeptida...          B   \n",
       "2  In vitro inhibition of human Dipeptidylpeptida...          B   \n",
       "3  In vitro inhibition of human Dipeptidylpeptida...          B   \n",
       "4  In vitro inhibition of human Dipeptidylpeptida...          B   \n",
       "\n",
       "  molecule_chembl_id relation standard_units standard_value target_chembl_id  \\\n",
       "0        CHEMBL93558        =             nM       217000.0        CHEMBL284   \n",
       "1       CHEMBL443622        =             nM        41000.0        CHEMBL284   \n",
       "2       CHEMBL403882        =             nM        15000.0        CHEMBL284   \n",
       "3       CHEMBL328795        =             nM       188000.0        CHEMBL284   \n",
       "4        CHEMBL97674        =             nM       247000.0        CHEMBL284   \n",
       "\n",
       "  target_organism  type units  value  \n",
       "0    Homo sapiens  IC50    uM  217.0  \n",
       "1    Homo sapiens  IC50    uM   41.0  \n",
       "2    Homo sapiens  IC50    uM   15.0  \n",
       "3    Homo sapiens  IC50    uM  188.0  \n",
       "4    Homo sapiens  IC50    uM  247.0  "
      ]
     },
     "execution_count": 18,
     "metadata": {},
     "output_type": "execute_result"
    }
   ],
   "source": [
    "bioactivities_df = pd.DataFrame.from_dict(bioactivities)\n",
    "print(f\"DataFrame shape: {bioactivities_df.shape}\")\n",
    "bioactivities_df.head()"
   ]
  },
  {
   "cell_type": "code",
   "execution_count": 19,
   "id": "23549860-041f-4aba-b21e-1fd3a63afc5c",
   "metadata": {},
   "outputs": [
    {
     "data": {
      "text/plain": [
       "array(['uM', 'nM', 'ug ml-1', 'nmol/L', 'nM/L', 'mM', 'umol/L', 'mol/L'],\n",
       "      dtype=object)"
      ]
     },
     "execution_count": 19,
     "metadata": {},
     "output_type": "execute_result"
    }
   ],
   "source": [
    "bioactivities_df[\"units\"].unique()"
   ]
  },
  {
   "cell_type": "code",
   "execution_count": 20,
   "id": "27f5d69f-7f2c-4d05-805b-5b31fd13995f",
   "metadata": {},
   "outputs": [
    {
     "data": {
      "text/html": [
       "<div>\n",
       "<style scoped>\n",
       "    .dataframe tbody tr th:only-of-type {\n",
       "        vertical-align: middle;\n",
       "    }\n",
       "\n",
       "    .dataframe tbody tr th {\n",
       "        vertical-align: top;\n",
       "    }\n",
       "\n",
       "    .dataframe thead th {\n",
       "        text-align: right;\n",
       "    }\n",
       "</style>\n",
       "<table border=\"1\" class=\"dataframe\">\n",
       "  <thead>\n",
       "    <tr style=\"text-align: right;\">\n",
       "      <th></th>\n",
       "      <th>activity_id</th>\n",
       "      <th>assay_chembl_id</th>\n",
       "      <th>assay_description</th>\n",
       "      <th>assay_type</th>\n",
       "      <th>molecule_chembl_id</th>\n",
       "      <th>relation</th>\n",
       "      <th>standard_units</th>\n",
       "      <th>standard_value</th>\n",
       "      <th>target_chembl_id</th>\n",
       "      <th>target_organism</th>\n",
       "      <th>type</th>\n",
       "    </tr>\n",
       "  </thead>\n",
       "  <tbody>\n",
       "    <tr>\n",
       "      <th>0</th>\n",
       "      <td>105501</td>\n",
       "      <td>CHEMBL666573</td>\n",
       "      <td>In vitro inhibition of human Dipeptidylpeptida...</td>\n",
       "      <td>B</td>\n",
       "      <td>CHEMBL93558</td>\n",
       "      <td>=</td>\n",
       "      <td>nM</td>\n",
       "      <td>217000.0</td>\n",
       "      <td>CHEMBL284</td>\n",
       "      <td>Homo sapiens</td>\n",
       "      <td>IC50</td>\n",
       "    </tr>\n",
       "    <tr>\n",
       "      <th>1</th>\n",
       "      <td>106644</td>\n",
       "      <td>CHEMBL666573</td>\n",
       "      <td>In vitro inhibition of human Dipeptidylpeptida...</td>\n",
       "      <td>B</td>\n",
       "      <td>CHEMBL443622</td>\n",
       "      <td>=</td>\n",
       "      <td>nM</td>\n",
       "      <td>41000.0</td>\n",
       "      <td>CHEMBL284</td>\n",
       "      <td>Homo sapiens</td>\n",
       "      <td>IC50</td>\n",
       "    </tr>\n",
       "    <tr>\n",
       "      <th>2</th>\n",
       "      <td>106647</td>\n",
       "      <td>CHEMBL666573</td>\n",
       "      <td>In vitro inhibition of human Dipeptidylpeptida...</td>\n",
       "      <td>B</td>\n",
       "      <td>CHEMBL403882</td>\n",
       "      <td>=</td>\n",
       "      <td>nM</td>\n",
       "      <td>15000.0</td>\n",
       "      <td>CHEMBL284</td>\n",
       "      <td>Homo sapiens</td>\n",
       "      <td>IC50</td>\n",
       "    </tr>\n",
       "    <tr>\n",
       "      <th>3</th>\n",
       "      <td>108924</td>\n",
       "      <td>CHEMBL666573</td>\n",
       "      <td>In vitro inhibition of human Dipeptidylpeptida...</td>\n",
       "      <td>B</td>\n",
       "      <td>CHEMBL328795</td>\n",
       "      <td>=</td>\n",
       "      <td>nM</td>\n",
       "      <td>188000.0</td>\n",
       "      <td>CHEMBL284</td>\n",
       "      <td>Homo sapiens</td>\n",
       "      <td>IC50</td>\n",
       "    </tr>\n",
       "    <tr>\n",
       "      <th>4</th>\n",
       "      <td>111620</td>\n",
       "      <td>CHEMBL666573</td>\n",
       "      <td>In vitro inhibition of human Dipeptidylpeptida...</td>\n",
       "      <td>B</td>\n",
       "      <td>CHEMBL97674</td>\n",
       "      <td>=</td>\n",
       "      <td>nM</td>\n",
       "      <td>247000.0</td>\n",
       "      <td>CHEMBL284</td>\n",
       "      <td>Homo sapiens</td>\n",
       "      <td>IC50</td>\n",
       "    </tr>\n",
       "  </tbody>\n",
       "</table>\n",
       "</div>"
      ],
      "text/plain": [
       "   activity_id assay_chembl_id  \\\n",
       "0       105501    CHEMBL666573   \n",
       "1       106644    CHEMBL666573   \n",
       "2       106647    CHEMBL666573   \n",
       "3       108924    CHEMBL666573   \n",
       "4       111620    CHEMBL666573   \n",
       "\n",
       "                                   assay_description assay_type  \\\n",
       "0  In vitro inhibition of human Dipeptidylpeptida...          B   \n",
       "1  In vitro inhibition of human Dipeptidylpeptida...          B   \n",
       "2  In vitro inhibition of human Dipeptidylpeptida...          B   \n",
       "3  In vitro inhibition of human Dipeptidylpeptida...          B   \n",
       "4  In vitro inhibition of human Dipeptidylpeptida...          B   \n",
       "\n",
       "  molecule_chembl_id relation standard_units standard_value target_chembl_id  \\\n",
       "0        CHEMBL93558        =             nM       217000.0        CHEMBL284   \n",
       "1       CHEMBL443622        =             nM        41000.0        CHEMBL284   \n",
       "2       CHEMBL403882        =             nM        15000.0        CHEMBL284   \n",
       "3       CHEMBL328795        =             nM       188000.0        CHEMBL284   \n",
       "4        CHEMBL97674        =             nM       247000.0        CHEMBL284   \n",
       "\n",
       "  target_organism  type  \n",
       "0    Homo sapiens  IC50  \n",
       "1    Homo sapiens  IC50  \n",
       "2    Homo sapiens  IC50  \n",
       "3    Homo sapiens  IC50  \n",
       "4    Homo sapiens  IC50  "
      ]
     },
     "execution_count": 20,
     "metadata": {},
     "output_type": "execute_result"
    }
   ],
   "source": [
    "bioactivities_df.drop([\"units\", \"value\"], axis=1, inplace=True)\n",
    "bioactivities_df.head()"
   ]
  },
  {
   "cell_type": "code",
   "execution_count": 21,
   "id": "bfb35163-c1f0-4866-bfee-df101d23d810",
   "metadata": {},
   "outputs": [
    {
     "data": {
      "text/plain": [
       "activity_id            int64\n",
       "assay_chembl_id       object\n",
       "assay_description     object\n",
       "assay_type            object\n",
       "molecule_chembl_id    object\n",
       "relation              object\n",
       "standard_units        object\n",
       "standard_value        object\n",
       "target_chembl_id      object\n",
       "target_organism       object\n",
       "type                  object\n",
       "dtype: object"
      ]
     },
     "execution_count": 21,
     "metadata": {},
     "output_type": "execute_result"
    }
   ],
   "source": [
    "bioactivities_df.dtypes"
   ]
  },
  {
   "cell_type": "code",
   "execution_count": 22,
   "id": "df742cba-cc60-4c13-b652-f0f09d773a98",
   "metadata": {},
   "outputs": [
    {
     "data": {
      "text/plain": [
       "activity_id             int64\n",
       "assay_chembl_id        object\n",
       "assay_description      object\n",
       "assay_type             object\n",
       "molecule_chembl_id     object\n",
       "relation               object\n",
       "standard_units         object\n",
       "standard_value        float64\n",
       "target_chembl_id       object\n",
       "target_organism        object\n",
       "type                   object\n",
       "dtype: object"
      ]
     },
     "execution_count": 22,
     "metadata": {},
     "output_type": "execute_result"
    }
   ],
   "source": [
    "bioactivities_df = bioactivities_df.astype({\"standard_value\": \"float64\"})\n",
    "bioactivities_df.dtypes"
   ]
  },
  {
   "cell_type": "code",
   "execution_count": 23,
   "id": "a9c49d4c-91f8-49a2-bcc1-3f17d482fe9a",
   "metadata": {},
   "outputs": [
    {
     "name": "stdout",
     "output_type": "stream",
     "text": [
      "DataFrame shape: (4506, 11)\n"
     ]
    }
   ],
   "source": [
    "bioactivities_df.dropna(axis=0, how=\"any\", inplace=True)\n",
    "print(f\"DataFrame shape: {bioactivities_df.shape}\")"
   ]
  },
  {
   "cell_type": "code",
   "execution_count": 24,
   "id": "8582bafd-89af-49f5-9abc-6f4bc1df0ed9",
   "metadata": {},
   "outputs": [
    {
     "name": "stdout",
     "output_type": "stream",
     "text": [
      "Units in downloaded data: ['nM' 'ug.mL-1']\n",
      "Number of non-nM entries:    20\n"
     ]
    }
   ],
   "source": [
    "print(f\"Units in downloaded data: {bioactivities_df['standard_units'].unique()}\")\n",
    "print(\n",
    "    f\"Number of non-nM entries:\\\n",
    "    {bioactivities_df[bioactivities_df['standard_units'] != 'nM'].shape[0]}\"\n",
    ")"
   ]
  },
  {
   "cell_type": "code",
   "execution_count": 25,
   "id": "90433f1f-2956-4ec5-a19d-a302de757b37",
   "metadata": {},
   "outputs": [
    {
     "name": "stdout",
     "output_type": "stream",
     "text": [
      "Units after filtering: ['nM']\n"
     ]
    }
   ],
   "source": [
    "bioactivities_df = bioactivities_df[bioactivities_df[\"standard_units\"] == \"nM\"]\n",
    "print(f\"Units after filtering: {bioactivities_df['standard_units'].unique()}\")"
   ]
  },
  {
   "cell_type": "code",
   "execution_count": 26,
   "id": "96f2c56d-8da7-4d11-b96b-dd650f86a487",
   "metadata": {},
   "outputs": [
    {
     "name": "stdout",
     "output_type": "stream",
     "text": [
      "DataFrame shape: (4486, 11)\n"
     ]
    }
   ],
   "source": [
    "print(f\"DataFrame shape: {bioactivities_df.shape}\")"
   ]
  },
  {
   "cell_type": "code",
   "execution_count": 27,
   "id": "6ce5175e-3935-4935-947d-1e37a449762d",
   "metadata": {},
   "outputs": [
    {
     "name": "stdout",
     "output_type": "stream",
     "text": [
      "DataFrame shape: (3819, 11)\n"
     ]
    }
   ],
   "source": [
    "bioactivities_df.drop_duplicates(\"molecule_chembl_id\", keep=\"first\", inplace=True)\n",
    "print(f\"DataFrame shape: {bioactivities_df.shape}\")"
   ]
  },
  {
   "cell_type": "code",
   "execution_count": 28,
   "id": "15022e16-e114-4a7b-8577-43700889cf2b",
   "metadata": {},
   "outputs": [
    {
     "data": {
      "text/html": [
       "<div>\n",
       "<style scoped>\n",
       "    .dataframe tbody tr th:only-of-type {\n",
       "        vertical-align: middle;\n",
       "    }\n",
       "\n",
       "    .dataframe tbody tr th {\n",
       "        vertical-align: top;\n",
       "    }\n",
       "\n",
       "    .dataframe thead th {\n",
       "        text-align: right;\n",
       "    }\n",
       "</style>\n",
       "<table border=\"1\" class=\"dataframe\">\n",
       "  <thead>\n",
       "    <tr style=\"text-align: right;\">\n",
       "      <th></th>\n",
       "      <th>activity_id</th>\n",
       "      <th>assay_chembl_id</th>\n",
       "      <th>assay_description</th>\n",
       "      <th>assay_type</th>\n",
       "      <th>molecule_chembl_id</th>\n",
       "      <th>relation</th>\n",
       "      <th>standard_units</th>\n",
       "      <th>standard_value</th>\n",
       "      <th>target_chembl_id</th>\n",
       "      <th>target_organism</th>\n",
       "      <th>type</th>\n",
       "    </tr>\n",
       "  </thead>\n",
       "  <tbody>\n",
       "    <tr>\n",
       "      <th>0</th>\n",
       "      <td>105501</td>\n",
       "      <td>CHEMBL666573</td>\n",
       "      <td>In vitro inhibition of human Dipeptidylpeptida...</td>\n",
       "      <td>B</td>\n",
       "      <td>CHEMBL93558</td>\n",
       "      <td>=</td>\n",
       "      <td>nM</td>\n",
       "      <td>217000.0</td>\n",
       "      <td>CHEMBL284</td>\n",
       "      <td>Homo sapiens</td>\n",
       "      <td>IC50</td>\n",
       "    </tr>\n",
       "    <tr>\n",
       "      <th>1</th>\n",
       "      <td>106644</td>\n",
       "      <td>CHEMBL666573</td>\n",
       "      <td>In vitro inhibition of human Dipeptidylpeptida...</td>\n",
       "      <td>B</td>\n",
       "      <td>CHEMBL443622</td>\n",
       "      <td>=</td>\n",
       "      <td>nM</td>\n",
       "      <td>41000.0</td>\n",
       "      <td>CHEMBL284</td>\n",
       "      <td>Homo sapiens</td>\n",
       "      <td>IC50</td>\n",
       "    </tr>\n",
       "    <tr>\n",
       "      <th>2</th>\n",
       "      <td>106647</td>\n",
       "      <td>CHEMBL666573</td>\n",
       "      <td>In vitro inhibition of human Dipeptidylpeptida...</td>\n",
       "      <td>B</td>\n",
       "      <td>CHEMBL403882</td>\n",
       "      <td>=</td>\n",
       "      <td>nM</td>\n",
       "      <td>15000.0</td>\n",
       "      <td>CHEMBL284</td>\n",
       "      <td>Homo sapiens</td>\n",
       "      <td>IC50</td>\n",
       "    </tr>\n",
       "    <tr>\n",
       "      <th>3</th>\n",
       "      <td>108924</td>\n",
       "      <td>CHEMBL666573</td>\n",
       "      <td>In vitro inhibition of human Dipeptidylpeptida...</td>\n",
       "      <td>B</td>\n",
       "      <td>CHEMBL328795</td>\n",
       "      <td>=</td>\n",
       "      <td>nM</td>\n",
       "      <td>188000.0</td>\n",
       "      <td>CHEMBL284</td>\n",
       "      <td>Homo sapiens</td>\n",
       "      <td>IC50</td>\n",
       "    </tr>\n",
       "    <tr>\n",
       "      <th>4</th>\n",
       "      <td>111620</td>\n",
       "      <td>CHEMBL666573</td>\n",
       "      <td>In vitro inhibition of human Dipeptidylpeptida...</td>\n",
       "      <td>B</td>\n",
       "      <td>CHEMBL97674</td>\n",
       "      <td>=</td>\n",
       "      <td>nM</td>\n",
       "      <td>247000.0</td>\n",
       "      <td>CHEMBL284</td>\n",
       "      <td>Homo sapiens</td>\n",
       "      <td>IC50</td>\n",
       "    </tr>\n",
       "  </tbody>\n",
       "</table>\n",
       "</div>"
      ],
      "text/plain": [
       "   activity_id assay_chembl_id  \\\n",
       "0       105501    CHEMBL666573   \n",
       "1       106644    CHEMBL666573   \n",
       "2       106647    CHEMBL666573   \n",
       "3       108924    CHEMBL666573   \n",
       "4       111620    CHEMBL666573   \n",
       "\n",
       "                                   assay_description assay_type  \\\n",
       "0  In vitro inhibition of human Dipeptidylpeptida...          B   \n",
       "1  In vitro inhibition of human Dipeptidylpeptida...          B   \n",
       "2  In vitro inhibition of human Dipeptidylpeptida...          B   \n",
       "3  In vitro inhibition of human Dipeptidylpeptida...          B   \n",
       "4  In vitro inhibition of human Dipeptidylpeptida...          B   \n",
       "\n",
       "  molecule_chembl_id relation standard_units  standard_value target_chembl_id  \\\n",
       "0        CHEMBL93558        =             nM        217000.0        CHEMBL284   \n",
       "1       CHEMBL443622        =             nM         41000.0        CHEMBL284   \n",
       "2       CHEMBL403882        =             nM         15000.0        CHEMBL284   \n",
       "3       CHEMBL328795        =             nM        188000.0        CHEMBL284   \n",
       "4        CHEMBL97674        =             nM        247000.0        CHEMBL284   \n",
       "\n",
       "  target_organism  type  \n",
       "0    Homo sapiens  IC50  \n",
       "1    Homo sapiens  IC50  \n",
       "2    Homo sapiens  IC50  \n",
       "3    Homo sapiens  IC50  \n",
       "4    Homo sapiens  IC50  "
      ]
     },
     "execution_count": 28,
     "metadata": {},
     "output_type": "execute_result"
    }
   ],
   "source": [
    "bioactivities_df.reset_index(drop=True, inplace=True)\n",
    "bioactivities_df.head()"
   ]
  },
  {
   "cell_type": "code",
   "execution_count": 29,
   "id": "566b94ac-f3fb-4702-93e6-5887066225d9",
   "metadata": {},
   "outputs": [
    {
     "data": {
      "text/html": [
       "<div>\n",
       "<style scoped>\n",
       "    .dataframe tbody tr th:only-of-type {\n",
       "        vertical-align: middle;\n",
       "    }\n",
       "\n",
       "    .dataframe tbody tr th {\n",
       "        vertical-align: top;\n",
       "    }\n",
       "\n",
       "    .dataframe thead th {\n",
       "        text-align: right;\n",
       "    }\n",
       "</style>\n",
       "<table border=\"1\" class=\"dataframe\">\n",
       "  <thead>\n",
       "    <tr style=\"text-align: right;\">\n",
       "      <th></th>\n",
       "      <th>activity_id</th>\n",
       "      <th>assay_chembl_id</th>\n",
       "      <th>assay_description</th>\n",
       "      <th>assay_type</th>\n",
       "      <th>molecule_chembl_id</th>\n",
       "      <th>relation</th>\n",
       "      <th>units</th>\n",
       "      <th>IC50</th>\n",
       "      <th>target_chembl_id</th>\n",
       "      <th>target_organism</th>\n",
       "      <th>type</th>\n",
       "    </tr>\n",
       "  </thead>\n",
       "  <tbody>\n",
       "    <tr>\n",
       "      <th>0</th>\n",
       "      <td>105501</td>\n",
       "      <td>CHEMBL666573</td>\n",
       "      <td>In vitro inhibition of human Dipeptidylpeptida...</td>\n",
       "      <td>B</td>\n",
       "      <td>CHEMBL93558</td>\n",
       "      <td>=</td>\n",
       "      <td>nM</td>\n",
       "      <td>217000.0</td>\n",
       "      <td>CHEMBL284</td>\n",
       "      <td>Homo sapiens</td>\n",
       "      <td>IC50</td>\n",
       "    </tr>\n",
       "    <tr>\n",
       "      <th>1</th>\n",
       "      <td>106644</td>\n",
       "      <td>CHEMBL666573</td>\n",
       "      <td>In vitro inhibition of human Dipeptidylpeptida...</td>\n",
       "      <td>B</td>\n",
       "      <td>CHEMBL443622</td>\n",
       "      <td>=</td>\n",
       "      <td>nM</td>\n",
       "      <td>41000.0</td>\n",
       "      <td>CHEMBL284</td>\n",
       "      <td>Homo sapiens</td>\n",
       "      <td>IC50</td>\n",
       "    </tr>\n",
       "    <tr>\n",
       "      <th>2</th>\n",
       "      <td>106647</td>\n",
       "      <td>CHEMBL666573</td>\n",
       "      <td>In vitro inhibition of human Dipeptidylpeptida...</td>\n",
       "      <td>B</td>\n",
       "      <td>CHEMBL403882</td>\n",
       "      <td>=</td>\n",
       "      <td>nM</td>\n",
       "      <td>15000.0</td>\n",
       "      <td>CHEMBL284</td>\n",
       "      <td>Homo sapiens</td>\n",
       "      <td>IC50</td>\n",
       "    </tr>\n",
       "    <tr>\n",
       "      <th>3</th>\n",
       "      <td>108924</td>\n",
       "      <td>CHEMBL666573</td>\n",
       "      <td>In vitro inhibition of human Dipeptidylpeptida...</td>\n",
       "      <td>B</td>\n",
       "      <td>CHEMBL328795</td>\n",
       "      <td>=</td>\n",
       "      <td>nM</td>\n",
       "      <td>188000.0</td>\n",
       "      <td>CHEMBL284</td>\n",
       "      <td>Homo sapiens</td>\n",
       "      <td>IC50</td>\n",
       "    </tr>\n",
       "    <tr>\n",
       "      <th>4</th>\n",
       "      <td>111620</td>\n",
       "      <td>CHEMBL666573</td>\n",
       "      <td>In vitro inhibition of human Dipeptidylpeptida...</td>\n",
       "      <td>B</td>\n",
       "      <td>CHEMBL97674</td>\n",
       "      <td>=</td>\n",
       "      <td>nM</td>\n",
       "      <td>247000.0</td>\n",
       "      <td>CHEMBL284</td>\n",
       "      <td>Homo sapiens</td>\n",
       "      <td>IC50</td>\n",
       "    </tr>\n",
       "  </tbody>\n",
       "</table>\n",
       "</div>"
      ],
      "text/plain": [
       "   activity_id assay_chembl_id  \\\n",
       "0       105501    CHEMBL666573   \n",
       "1       106644    CHEMBL666573   \n",
       "2       106647    CHEMBL666573   \n",
       "3       108924    CHEMBL666573   \n",
       "4       111620    CHEMBL666573   \n",
       "\n",
       "                                   assay_description assay_type  \\\n",
       "0  In vitro inhibition of human Dipeptidylpeptida...          B   \n",
       "1  In vitro inhibition of human Dipeptidylpeptida...          B   \n",
       "2  In vitro inhibition of human Dipeptidylpeptida...          B   \n",
       "3  In vitro inhibition of human Dipeptidylpeptida...          B   \n",
       "4  In vitro inhibition of human Dipeptidylpeptida...          B   \n",
       "\n",
       "  molecule_chembl_id relation units      IC50 target_chembl_id  \\\n",
       "0        CHEMBL93558        =    nM  217000.0        CHEMBL284   \n",
       "1       CHEMBL443622        =    nM   41000.0        CHEMBL284   \n",
       "2       CHEMBL403882        =    nM   15000.0        CHEMBL284   \n",
       "3       CHEMBL328795        =    nM  188000.0        CHEMBL284   \n",
       "4        CHEMBL97674        =    nM  247000.0        CHEMBL284   \n",
       "\n",
       "  target_organism  type  \n",
       "0    Homo sapiens  IC50  \n",
       "1    Homo sapiens  IC50  \n",
       "2    Homo sapiens  IC50  \n",
       "3    Homo sapiens  IC50  \n",
       "4    Homo sapiens  IC50  "
      ]
     },
     "execution_count": 29,
     "metadata": {},
     "output_type": "execute_result"
    }
   ],
   "source": [
    "bioactivities_df.rename(\n",
    "    columns={\"standard_value\": \"IC50\", \"standard_units\": \"units\"}, inplace=True\n",
    ")\n",
    "bioactivities_df.head()"
   ]
  },
  {
   "cell_type": "code",
   "execution_count": 30,
   "id": "eb8d2d39-41f6-4932-a1fd-50fc28c032ac",
   "metadata": {},
   "outputs": [
    {
     "name": "stdout",
     "output_type": "stream",
     "text": [
      "DataFrame shape: (3819, 11)\n"
     ]
    }
   ],
   "source": [
    "print(f\"DataFrame shape: {bioactivities_df.shape}\")"
   ]
  },
  {
   "cell_type": "code",
   "execution_count": 31,
   "id": "f6b1e50f-9e0a-4264-9dd4-1256cc2ae2df",
   "metadata": {},
   "outputs": [],
   "source": [
    "compounds_provider = compounds_api.filter(\n",
    "    molecule_chembl_id__in=list(bioactivities_df[\"molecule_chembl_id\"])\n",
    ").only(\"molecule_chembl_id\", \"molecule_structures\")"
   ]
  },
  {
   "cell_type": "code",
   "execution_count": 32,
   "id": "5e210327-4b57-4e39-9c5b-e04b687860e2",
   "metadata": {},
   "outputs": [
    {
     "name": "stderr",
     "output_type": "stream",
     "text": [
      "100%|██████████| 3819/3819 [09:22<00:00,  6.79it/s]\n"
     ]
    }
   ],
   "source": [
    "compounds = list(tqdm(compounds_provider))"
   ]
  },
  {
   "cell_type": "code",
   "execution_count": 33,
   "id": "0ecdc613-f31e-4b20-9cef-4739d12c5042",
   "metadata": {},
   "outputs": [
    {
     "name": "stdout",
     "output_type": "stream",
     "text": [
      "DataFrame shape: (3819, 2)\n"
     ]
    }
   ],
   "source": [
    "compounds_df = pd.DataFrame.from_records(\n",
    "    compounds,\n",
    ")\n",
    "print(f\"DataFrame shape: {compounds_df.shape}\")"
   ]
  },
  {
   "cell_type": "code",
   "execution_count": 34,
   "id": "03d128de-985b-4eeb-a49b-ffcb9d165cd5",
   "metadata": {},
   "outputs": [
    {
     "data": {
      "text/html": [
       "<div>\n",
       "<style scoped>\n",
       "    .dataframe tbody tr th:only-of-type {\n",
       "        vertical-align: middle;\n",
       "    }\n",
       "\n",
       "    .dataframe tbody tr th {\n",
       "        vertical-align: top;\n",
       "    }\n",
       "\n",
       "    .dataframe thead th {\n",
       "        text-align: right;\n",
       "    }\n",
       "</style>\n",
       "<table border=\"1\" class=\"dataframe\">\n",
       "  <thead>\n",
       "    <tr style=\"text-align: right;\">\n",
       "      <th></th>\n",
       "      <th>molecule_chembl_id</th>\n",
       "      <th>molecule_structures</th>\n",
       "    </tr>\n",
       "  </thead>\n",
       "  <tbody>\n",
       "    <tr>\n",
       "      <th>0</th>\n",
       "      <td>CHEMBL28</td>\n",
       "      <td>{'canonical_smiles': 'O=c1cc(-c2ccc(O)cc2)oc2c...</td>\n",
       "    </tr>\n",
       "    <tr>\n",
       "      <th>1</th>\n",
       "      <td>CHEMBL269277</td>\n",
       "      <td>{'canonical_smiles': 'C=C(C)[C@@H]1CC[C@]2(C(=...</td>\n",
       "    </tr>\n",
       "    <tr>\n",
       "      <th>2</th>\n",
       "      <td>CHEMBL430</td>\n",
       "      <td>{'canonical_smiles': 'CO/N=C1\\CN(c2nc3c(cc2F)c...</td>\n",
       "    </tr>\n",
       "    <tr>\n",
       "      <th>3</th>\n",
       "      <td>CHEMBL44</td>\n",
       "      <td>{'canonical_smiles': 'O=c1c(-c2ccc(O)cc2)coc2c...</td>\n",
       "    </tr>\n",
       "    <tr>\n",
       "      <th>4</th>\n",
       "      <td>CHEMBL50</td>\n",
       "      <td>{'canonical_smiles': 'O=c1c(O)c(-c2ccc(O)c(O)c...</td>\n",
       "    </tr>\n",
       "  </tbody>\n",
       "</table>\n",
       "</div>"
      ],
      "text/plain": [
       "  molecule_chembl_id                                molecule_structures\n",
       "0           CHEMBL28  {'canonical_smiles': 'O=c1cc(-c2ccc(O)cc2)oc2c...\n",
       "1       CHEMBL269277  {'canonical_smiles': 'C=C(C)[C@@H]1CC[C@]2(C(=...\n",
       "2          CHEMBL430  {'canonical_smiles': 'CO/N=C1\\CN(c2nc3c(cc2F)c...\n",
       "3           CHEMBL44  {'canonical_smiles': 'O=c1c(-c2ccc(O)cc2)coc2c...\n",
       "4           CHEMBL50  {'canonical_smiles': 'O=c1c(O)c(-c2ccc(O)c(O)c..."
      ]
     },
     "execution_count": 34,
     "metadata": {},
     "output_type": "execute_result"
    }
   ],
   "source": [
    "compounds_df.head()"
   ]
  },
  {
   "cell_type": "code",
   "execution_count": 35,
   "id": "dd7dec74-2e49-4354-bdd3-a64e7870cbe6",
   "metadata": {},
   "outputs": [
    {
     "name": "stdout",
     "output_type": "stream",
     "text": [
      "DataFrame shape: (3815, 2)\n"
     ]
    }
   ],
   "source": [
    "compounds_df.dropna(axis=0, how=\"any\", inplace=True)\n",
    "print(f\"DataFrame shape: {compounds_df.shape}\")"
   ]
  },
  {
   "cell_type": "code",
   "execution_count": 36,
   "id": "429c5a52-da36-41d6-a647-f13014b84184",
   "metadata": {},
   "outputs": [
    {
     "name": "stdout",
     "output_type": "stream",
     "text": [
      "DataFrame shape: (3815, 2)\n"
     ]
    }
   ],
   "source": [
    "compounds_df.drop_duplicates(\"molecule_chembl_id\", keep=\"first\", inplace=True)\n",
    "print(f\"DataFrame shape: {compounds_df.shape}\")"
   ]
  },
  {
   "cell_type": "code",
   "execution_count": 37,
   "id": "1520c93b-917f-48ae-948e-6a2bd9f0059b",
   "metadata": {},
   "outputs": [
    {
     "data": {
      "text/plain": [
       "dict_keys(['canonical_smiles', 'molfile', 'standard_inchi', 'standard_inchi_key'])"
      ]
     },
     "execution_count": 37,
     "metadata": {},
     "output_type": "execute_result"
    }
   ],
   "source": [
    "compounds_df.iloc[0].molecule_structures.keys()"
   ]
  },
  {
   "cell_type": "code",
   "execution_count": 38,
   "id": "1da8727a-5aeb-4d52-bed5-5e2bdf791f2f",
   "metadata": {},
   "outputs": [
    {
     "name": "stdout",
     "output_type": "stream",
     "text": [
      "DataFrame shape: (3815, 2)\n"
     ]
    }
   ],
   "source": [
    "canonical_smiles = []\n",
    "\n",
    "for i, compounds in compounds_df.iterrows():\n",
    "    try:\n",
    "        canonical_smiles.append(compounds[\"molecule_structures\"][\"canonical_smiles\"])\n",
    "    except KeyError:\n",
    "        canonical_smiles.append(None)\n",
    "\n",
    "compounds_df[\"smiles\"] = canonical_smiles\n",
    "compounds_df.drop(\"molecule_structures\", axis=1, inplace=True)\n",
    "print(f\"DataFrame shape: {compounds_df.shape}\")"
   ]
  },
  {
   "cell_type": "code",
   "execution_count": 39,
   "id": "fc7baeee-46dd-4061-9c08-be17e8e89eba",
   "metadata": {},
   "outputs": [
    {
     "name": "stdout",
     "output_type": "stream",
     "text": [
      "DataFrame shape: (3815, 2)\n"
     ]
    }
   ],
   "source": [
    "compounds_df.dropna(axis=0, how=\"any\", inplace=True)\n",
    "print(f\"DataFrame shape: {compounds_df.shape}\")"
   ]
  },
  {
   "cell_type": "code",
   "execution_count": 40,
   "id": "1e9bd0ed-1229-4adc-856c-efdac179bb3e",
   "metadata": {},
   "outputs": [
    {
     "name": "stdout",
     "output_type": "stream",
     "text": [
      "Bioactivities filtered: 3819\n"
     ]
    },
    {
     "data": {
      "text/plain": [
       "Index(['activity_id', 'assay_chembl_id', 'assay_description', 'assay_type',\n",
       "       'molecule_chembl_id', 'relation', 'units', 'IC50', 'target_chembl_id',\n",
       "       'target_organism', 'type'],\n",
       "      dtype='object')"
      ]
     },
     "execution_count": 40,
     "metadata": {},
     "output_type": "execute_result"
    }
   ],
   "source": [
    "print(f\"Bioactivities filtered: {bioactivities_df.shape[0]}\")\n",
    "bioactivities_df.columns"
   ]
  },
  {
   "cell_type": "code",
   "execution_count": 41,
   "id": "bc37c358-964d-43cc-8045-fcde50a1b5e1",
   "metadata": {},
   "outputs": [
    {
     "name": "stdout",
     "output_type": "stream",
     "text": [
      "Compounds filtered: 3815\n"
     ]
    },
    {
     "data": {
      "text/plain": [
       "Index(['molecule_chembl_id', 'smiles'], dtype='object')"
      ]
     },
     "execution_count": 41,
     "metadata": {},
     "output_type": "execute_result"
    }
   ],
   "source": [
    "print(f\"Compounds filtered: {compounds_df.shape[0]}\")\n",
    "compounds_df.columns"
   ]
  },
  {
   "cell_type": "code",
   "execution_count": 42,
   "id": "10e5412c-6bc2-4754-8d3d-c48d76bcace8",
   "metadata": {},
   "outputs": [
    {
     "name": "stdout",
     "output_type": "stream",
     "text": [
      "Dataset with 3815 entries.\n"
     ]
    }
   ],
   "source": [
    "# Merge DataFrames\n",
    "output_df = pd.merge(\n",
    "    bioactivities_df[[\"molecule_chembl_id\", \"IC50\", \"units\"]],\n",
    "    compounds_df,\n",
    "    on=\"molecule_chembl_id\",\n",
    ")\n",
    "\n",
    "# Reset row indices\n",
    "output_df.reset_index(drop=True, inplace=True)\n",
    "\n",
    "print(f\"Dataset with {output_df.shape[0]} entries.\")"
   ]
  },
  {
   "cell_type": "code",
   "execution_count": 43,
   "id": "1e877eab-77b4-4a89-b1dd-c53f283894b2",
   "metadata": {},
   "outputs": [
    {
     "data": {
      "text/plain": [
       "molecule_chembl_id     object\n",
       "IC50                  float64\n",
       "units                  object\n",
       "smiles                 object\n",
       "dtype: object"
      ]
     },
     "execution_count": 43,
     "metadata": {},
     "output_type": "execute_result"
    }
   ],
   "source": [
    "output_df.dtypes"
   ]
  },
  {
   "cell_type": "code",
   "execution_count": 44,
   "id": "e6880042-f2cf-4460-bda5-bc5d5c8f13dd",
   "metadata": {},
   "outputs": [
    {
     "data": {
      "text/html": [
       "<div>\n",
       "<style scoped>\n",
       "    .dataframe tbody tr th:only-of-type {\n",
       "        vertical-align: middle;\n",
       "    }\n",
       "\n",
       "    .dataframe tbody tr th {\n",
       "        vertical-align: top;\n",
       "    }\n",
       "\n",
       "    .dataframe thead th {\n",
       "        text-align: right;\n",
       "    }\n",
       "</style>\n",
       "<table border=\"1\" class=\"dataframe\">\n",
       "  <thead>\n",
       "    <tr style=\"text-align: right;\">\n",
       "      <th></th>\n",
       "      <th>molecule_chembl_id</th>\n",
       "      <th>IC50</th>\n",
       "      <th>units</th>\n",
       "      <th>smiles</th>\n",
       "    </tr>\n",
       "  </thead>\n",
       "  <tbody>\n",
       "    <tr>\n",
       "      <th>0</th>\n",
       "      <td>CHEMBL93558</td>\n",
       "      <td>217000.0</td>\n",
       "      <td>nM</td>\n",
       "      <td>N[C@@H](CC1CCCCC1)C(=O)N1CCCCC1</td>\n",
       "    </tr>\n",
       "    <tr>\n",
       "      <th>1</th>\n",
       "      <td>CHEMBL443622</td>\n",
       "      <td>41000.0</td>\n",
       "      <td>nM</td>\n",
       "      <td>C[C@H](N)C(=O)N1CCCC1</td>\n",
       "    </tr>\n",
       "    <tr>\n",
       "      <th>2</th>\n",
       "      <td>CHEMBL403882</td>\n",
       "      <td>15000.0</td>\n",
       "      <td>nM</td>\n",
       "      <td>O=C([C@@H]1CCCN1)N1CCCC1</td>\n",
       "    </tr>\n",
       "    <tr>\n",
       "      <th>3</th>\n",
       "      <td>CHEMBL328795</td>\n",
       "      <td>188000.0</td>\n",
       "      <td>nM</td>\n",
       "      <td>NC(=O)CC(N)C(=O)N1CCCC1</td>\n",
       "    </tr>\n",
       "    <tr>\n",
       "      <th>4</th>\n",
       "      <td>CHEMBL97674</td>\n",
       "      <td>247000.0</td>\n",
       "      <td>nM</td>\n",
       "      <td>NCCCCC(N)C(=O)N1CCCCC1</td>\n",
       "    </tr>\n",
       "    <tr>\n",
       "      <th>5</th>\n",
       "      <td>CHEMBL317126</td>\n",
       "      <td>14000.0</td>\n",
       "      <td>nM</td>\n",
       "      <td>NC(Cc1ccc(O)cc1)C(=O)N1CCCC1</td>\n",
       "    </tr>\n",
       "    <tr>\n",
       "      <th>6</th>\n",
       "      <td>CHEMBL383705</td>\n",
       "      <td>4000.0</td>\n",
       "      <td>nM</td>\n",
       "      <td>CC(C)[C@H](N)C(=O)N1CCCC1</td>\n",
       "    </tr>\n",
       "    <tr>\n",
       "      <th>7</th>\n",
       "      <td>CHEMBL94955</td>\n",
       "      <td>134900.0</td>\n",
       "      <td>nM</td>\n",
       "      <td>NCCCCC(NC(=O)OCc1ccccc1)C(=O)N1CCCCC1</td>\n",
       "    </tr>\n",
       "    <tr>\n",
       "      <th>8</th>\n",
       "      <td>CHEMBL97180</td>\n",
       "      <td>213000.0</td>\n",
       "      <td>nM</td>\n",
       "      <td>NC(Cc1c[nH]cn1)C(=O)N1CCCCC1</td>\n",
       "    </tr>\n",
       "    <tr>\n",
       "      <th>9</th>\n",
       "      <td>CHEMBL98008</td>\n",
       "      <td>17000.0</td>\n",
       "      <td>nM</td>\n",
       "      <td>N[C@@H](CC1CCCCC1)C(=O)N1CCCC1</td>\n",
       "    </tr>\n",
       "  </tbody>\n",
       "</table>\n",
       "</div>"
      ],
      "text/plain": [
       "  molecule_chembl_id      IC50 units                                 smiles\n",
       "0        CHEMBL93558  217000.0    nM        N[C@@H](CC1CCCCC1)C(=O)N1CCCCC1\n",
       "1       CHEMBL443622   41000.0    nM                  C[C@H](N)C(=O)N1CCCC1\n",
       "2       CHEMBL403882   15000.0    nM               O=C([C@@H]1CCCN1)N1CCCC1\n",
       "3       CHEMBL328795  188000.0    nM                NC(=O)CC(N)C(=O)N1CCCC1\n",
       "4        CHEMBL97674  247000.0    nM                 NCCCCC(N)C(=O)N1CCCCC1\n",
       "5       CHEMBL317126   14000.0    nM           NC(Cc1ccc(O)cc1)C(=O)N1CCCC1\n",
       "6       CHEMBL383705    4000.0    nM              CC(C)[C@H](N)C(=O)N1CCCC1\n",
       "7        CHEMBL94955  134900.0    nM  NCCCCC(NC(=O)OCc1ccccc1)C(=O)N1CCCCC1\n",
       "8        CHEMBL97180  213000.0    nM           NC(Cc1c[nH]cn1)C(=O)N1CCCCC1\n",
       "9        CHEMBL98008   17000.0    nM         N[C@@H](CC1CCCCC1)C(=O)N1CCCC1"
      ]
     },
     "execution_count": 44,
     "metadata": {},
     "output_type": "execute_result"
    }
   ],
   "source": [
    "output_df.head(10)"
   ]
  },
  {
   "cell_type": "code",
   "execution_count": 45,
   "id": "a32a6d71-ba00-42f1-8eed-ec42eda343f8",
   "metadata": {},
   "outputs": [],
   "source": [
    "def convert_ic50_to_pic50(IC50_value):\n",
    "    pIC50_value = 9 - math.log10(IC50_value)\n",
    "    return pIC50_value"
   ]
  },
  {
   "cell_type": "code",
   "execution_count": 46,
   "id": "19acd6d1-1809-4278-9229-0200f1c0acae",
   "metadata": {},
   "outputs": [],
   "source": [
    "# Apply conversion to each row of the compounds DataFrame\n",
    "output_df[\"pIC50\"] = output_df.apply(lambda x: convert_ic50_to_pic50(x.IC50), axis=1)"
   ]
  },
  {
   "cell_type": "code",
   "execution_count": 47,
   "id": "c79e06cf-b18e-4f3f-9679-fbd5b81b4055",
   "metadata": {},
   "outputs": [
    {
     "data": {
      "text/html": [
       "<div>\n",
       "<style scoped>\n",
       "    .dataframe tbody tr th:only-of-type {\n",
       "        vertical-align: middle;\n",
       "    }\n",
       "\n",
       "    .dataframe tbody tr th {\n",
       "        vertical-align: top;\n",
       "    }\n",
       "\n",
       "    .dataframe thead th {\n",
       "        text-align: right;\n",
       "    }\n",
       "</style>\n",
       "<table border=\"1\" class=\"dataframe\">\n",
       "  <thead>\n",
       "    <tr style=\"text-align: right;\">\n",
       "      <th></th>\n",
       "      <th>molecule_chembl_id</th>\n",
       "      <th>IC50</th>\n",
       "      <th>units</th>\n",
       "      <th>smiles</th>\n",
       "      <th>pIC50</th>\n",
       "    </tr>\n",
       "  </thead>\n",
       "  <tbody>\n",
       "    <tr>\n",
       "      <th>0</th>\n",
       "      <td>CHEMBL93558</td>\n",
       "      <td>217000.0</td>\n",
       "      <td>nM</td>\n",
       "      <td>N[C@@H](CC1CCCCC1)C(=O)N1CCCCC1</td>\n",
       "      <td>3.663540</td>\n",
       "    </tr>\n",
       "    <tr>\n",
       "      <th>1</th>\n",
       "      <td>CHEMBL443622</td>\n",
       "      <td>41000.0</td>\n",
       "      <td>nM</td>\n",
       "      <td>C[C@H](N)C(=O)N1CCCC1</td>\n",
       "      <td>4.387216</td>\n",
       "    </tr>\n",
       "    <tr>\n",
       "      <th>2</th>\n",
       "      <td>CHEMBL403882</td>\n",
       "      <td>15000.0</td>\n",
       "      <td>nM</td>\n",
       "      <td>O=C([C@@H]1CCCN1)N1CCCC1</td>\n",
       "      <td>4.823909</td>\n",
       "    </tr>\n",
       "    <tr>\n",
       "      <th>3</th>\n",
       "      <td>CHEMBL328795</td>\n",
       "      <td>188000.0</td>\n",
       "      <td>nM</td>\n",
       "      <td>NC(=O)CC(N)C(=O)N1CCCC1</td>\n",
       "      <td>3.725842</td>\n",
       "    </tr>\n",
       "    <tr>\n",
       "      <th>4</th>\n",
       "      <td>CHEMBL97674</td>\n",
       "      <td>247000.0</td>\n",
       "      <td>nM</td>\n",
       "      <td>NCCCCC(N)C(=O)N1CCCCC1</td>\n",
       "      <td>3.607303</td>\n",
       "    </tr>\n",
       "  </tbody>\n",
       "</table>\n",
       "</div>"
      ],
      "text/plain": [
       "  molecule_chembl_id      IC50 units                           smiles  \\\n",
       "0        CHEMBL93558  217000.0    nM  N[C@@H](CC1CCCCC1)C(=O)N1CCCCC1   \n",
       "1       CHEMBL443622   41000.0    nM            C[C@H](N)C(=O)N1CCCC1   \n",
       "2       CHEMBL403882   15000.0    nM         O=C([C@@H]1CCCN1)N1CCCC1   \n",
       "3       CHEMBL328795  188000.0    nM          NC(=O)CC(N)C(=O)N1CCCC1   \n",
       "4        CHEMBL97674  247000.0    nM           NCCCCC(N)C(=O)N1CCCCC1   \n",
       "\n",
       "      pIC50  \n",
       "0  3.663540  \n",
       "1  4.387216  \n",
       "2  4.823909  \n",
       "3  3.725842  \n",
       "4  3.607303  "
      ]
     },
     "execution_count": 47,
     "metadata": {},
     "output_type": "execute_result"
    }
   ],
   "source": [
    "output_df.head()"
   ]
  },
  {
   "cell_type": "code",
   "execution_count": 49,
   "id": "6444fd57-7e5e-44d7-8f8b-24bb97fe180a",
   "metadata": {},
   "outputs": [
    {
     "data": {
      "text/plain": [
       "array([[<AxesSubplot:title={'center':'pIC50'}>]], dtype=object)"
      ]
     },
     "execution_count": 49,
     "metadata": {},
     "output_type": "execute_result"
    },
    {
     "data": {
      "image/png": "[encoded data removed]",
      "text/plain": [
       "<Figure size 640x480 with 1 Axes>"
      ]
     },
     "metadata": {},
     "output_type": "display_data"
    }
   ],
   "source": [
    "output_df.hist(column=\"pIC50\")"
   ]
  },
  {
   "cell_type": "code",
   "execution_count": 50,
   "id": "8703dc66-5932-4bf4-b554-d2f9c42371b8",
   "metadata": {},
   "outputs": [],
   "source": [
    "# Add molecule column\n",
    "PandasTools.AddMoleculeColumnToFrame(output_df, smilesCol=\"smiles\")"
   ]
  },
  {
   "cell_type": "code",
   "execution_count": 51,
   "id": "35eff5eb-02ea-4c53-9afb-9f7745ade589",
   "metadata": {},
   "outputs": [],
   "source": [
    "# Sort molecules by pIC50\n",
    "output_df.sort_values(by=\"pIC50\", ascending=False, inplace=True)\n",
    "\n",
    "# Reset index\n",
    "output_df.reset_index(drop=True, inplace=True)"
   ]
  },
  {
   "cell_type": "code",
   "execution_count": 52,
   "id": "9500825f-dadd-47d5-8152-7d28873810fd",
   "metadata": {},
   "outputs": [
    {
     "data": {
      "text/html": [
       "<div>\n",
       "<style scoped>\n",
       "    .dataframe tbody tr th:only-of-type {\n",
       "        vertical-align: middle;\n",
       "    }\n",
       "\n",
       "    .dataframe tbody tr th {\n",
       "        vertical-align: top;\n",
       "    }\n",
       "\n",
       "    .dataframe thead th {\n",
       "        text-align: right;\n",
       "    }\n",
       "</style>\n",
       "<table border=\"1\" class=\"dataframe\">\n",
       "  <thead>\n",
       "    <tr style=\"text-align: right;\">\n",
       "      <th></th>\n",
       "      <th>molecule_chembl_id</th>\n",
       "      <th>IC50</th>\n",
       "      <th>units</th>\n",
       "      <th>pIC50</th>\n",
       "      <th>ROMol</th>\n",
       "    </tr>\n",
       "  </thead>\n",
       "  <tbody>\n",
       "    <tr>\n",
       "      <th>0</th>\n",
       "      <td>CHEMBL4113723</td>\n",
       "      <td>0.05</td>\n",
       "      <td>nM</td>\n",
       "      <td>10.301030</td>\n",
       "      <td>&lt;rdkit.Chem.rdchem.Mol object at 0x000002191B8...</td>\n",
       "    </tr>\n",
       "    <tr>\n",
       "      <th>1</th>\n",
       "      <td>CHEMBL5269668</td>\n",
       "      <td>0.09</td>\n",
       "      <td>nM</td>\n",
       "      <td>10.045757</td>\n",
       "      <td>&lt;rdkit.Chem.rdchem.Mol object at 0x000002191B9...</td>\n",
       "    </tr>\n",
       "    <tr>\n",
       "      <th>2</th>\n",
       "      <td>CHEMBL34062</td>\n",
       "      <td>0.10</td>\n",
       "      <td>nM</td>\n",
       "      <td>10.000000</td>\n",
       "      <td>&lt;rdkit.Chem.rdchem.Mol object at 0x000002191B8...</td>\n",
       "    </tr>\n",
       "  </tbody>\n",
       "</table>\n",
       "</div>"
      ],
      "text/plain": [
       "  molecule_chembl_id  IC50 units      pIC50  \\\n",
       "0      CHEMBL4113723  0.05    nM  10.301030   \n",
       "1      CHEMBL5269668  0.09    nM  10.045757   \n",
       "2        CHEMBL34062  0.10    nM  10.000000   \n",
       "\n",
       "                                               ROMol  \n",
       "0  <rdkit.Chem.rdchem.Mol object at 0x000002191B8...  \n",
       "1  <rdkit.Chem.rdchem.Mol object at 0x000002191B9...  \n",
       "2  <rdkit.Chem.rdchem.Mol object at 0x000002191B8...  "
      ]
     },
     "execution_count": 52,
     "metadata": {},
     "output_type": "execute_result"
    }
   ],
   "source": [
    "output_df.drop(\"smiles\", axis=1).head(3)"
   ]
  },
  {
   "cell_type": "code",
   "execution_count": 53,
   "id": "521c0035-eb63-43b4-a657-5d2b30f28b47",
   "metadata": {},
   "outputs": [
    {
     "name": "stdout",
     "output_type": "stream",
     "text": [
      "DataFrame shape: (3815, 5)\n"
     ]
    }
   ],
   "source": [
    "# Prepare saving the dataset: Drop the ROMol column\n",
    "output_df = output_df.drop(\"ROMol\", axis=1)\n",
    "print(f\"DataFrame shape: {output_df.shape}\")"
   ]
  },
  {
   "cell_type": "code",
   "execution_count": null,
   "id": "75097a7c-f704-4b1e-9638-131512f209f8",
   "metadata": {},
   "outputs": [
    {
     "data": {
      "text/html": [
       "<div>\n",
       "<style scoped>\n",
       "    .dataframe tbody tr th:only-of-type {\n",
       "        vertical-align: middle;\n",
       "    }\n",
       "\n",
       "    .dataframe tbody tr th {\n",
       "        vertical-align: top;\n",
       "    }\n",
       "\n",
       "    .dataframe thead th {\n",
       "        text-align: right;\n",
       "    }\n",
       "</style>\n",
       "<table border=\"1\" class=\"dataframe\">\n",
       "  <thead>\n",
       "    <tr style=\"text-align: right;\">\n",
       "      <th></th>\n",
       "      <th>molecule_chembl_id</th>\n",
       "      <th>IC50</th>\n",
       "      <th>units</th>\n",
       "      <th>smiles</th>\n",
       "      <th>pIC50</th>\n",
       "    </tr>\n",
       "  </thead>\n",
       "  <tbody>\n",
       "    <tr>\n",
       "      <th>0</th>\n",
       "      <td>CHEMBL348798</td>\n",
       "      <td>0.002</td>\n",
       "      <td>nM</td>\n",
       "      <td>CC(C)c1c(CC[C@@H](O)C[C@@H](O)CC(=O)[O-])c(-c2...</td>\n",
       "      <td>11.698970</td>\n",
       "    </tr>\n",
       "    <tr>\n",
       "      <th>1</th>\n",
       "      <td>CHEMBL162642</td>\n",
       "      <td>0.014</td>\n",
       "      <td>nM</td>\n",
       "      <td>CC(C)c1c(/C=C/[C@@H](O)C[C@@H](O)CC(=O)[O-])c(...</td>\n",
       "      <td>10.853872</td>\n",
       "    </tr>\n",
       "    <tr>\n",
       "      <th>2</th>\n",
       "      <td>CHEMBL159951</td>\n",
       "      <td>0.018</td>\n",
       "      <td>nM</td>\n",
       "      <td>CC(C)c1c(CC[C@@H](O)C[C@@H](O)CC(=O)[O-])c(-c2...</td>\n",
       "      <td>10.744727</td>\n",
       "    </tr>\n",
       "    <tr>\n",
       "      <th>3</th>\n",
       "      <td>CHEMBL160102</td>\n",
       "      <td>0.050</td>\n",
       "      <td>nM</td>\n",
       "      <td>CC(C)c1c(/C=C/[C@@H](O)C[C@@H](O)CC(=O)[O-])c(...</td>\n",
       "      <td>10.301030</td>\n",
       "    </tr>\n",
       "    <tr>\n",
       "      <th>4</th>\n",
       "      <td>CHEMBL2375155</td>\n",
       "      <td>0.106</td>\n",
       "      <td>nM</td>\n",
       "      <td>CC(C)c1c(/C=C/[C@H](O)C[C@@H](O)CC(=O)[O-])c(-...</td>\n",
       "      <td>9.974694</td>\n",
       "    </tr>\n",
       "  </tbody>\n",
       "</table>\n",
       "</div>"
      ],
      "text/plain": [
       "  molecule_chembl_id   IC50 units  \\\n",
       "0       CHEMBL348798  0.002    nM   \n",
       "1       CHEMBL162642  0.014    nM   \n",
       "2       CHEMBL159951  0.018    nM   \n",
       "3       CHEMBL160102  0.050    nM   \n",
       "4      CHEMBL2375155  0.106    nM   \n",
       "\n",
       "                                              smiles      pIC50  \n",
       "0  CC(C)c1c(CC[C@@H](O)C[C@@H](O)CC(=O)[O-])c(-c2...  11.698970  \n",
       "1  CC(C)c1c(/C=C/[C@@H](O)C[C@@H](O)CC(=O)[O-])c(...  10.853872  \n",
       "2  CC(C)c1c(CC[C@@H](O)C[C@@H](O)CC(=O)[O-])c(-c2...  10.744727  \n",
       "3  CC(C)c1c(/C=C/[C@@H](O)C[C@@H](O)CC(=O)[O-])c(...  10.301030  \n",
       "4  CC(C)c1c(/C=C/[C@H](O)C[C@@H](O)CC(=O)[O-])c(-...   9.974694  "
      ]
     },
     "execution_count": 53,
     "metadata": {},
     "output_type": "execute_result"
    }
   ],
   "source": [
    "# Disable this cell to unfreeze the dataset\n",
    "output_df = pd.read_csv(\n",
    "    DATA / \"DPP4i_compounds.csv\", index_col=0, float_precision=\"round_trip\"\n",
    ")\n",
    "output_df.head()"
   ]
  },
  {
   "cell_type": "code",
   "execution_count": 54,
   "id": "08478d0d-8776-4000-9a53-1b7055dbdf3c",
   "metadata": {},
   "outputs": [
    {
     "name": "stdout",
     "output_type": "stream",
     "text": [
      "DataFrame shape: (208, 5)\n"
     ]
    }
   ],
   "source": [
    "print(f\"DataFrame shape: {output_df.shape}\")\n",
    "# NBVAL_CHECK_OUTPUT"
   ]
  },
  {
   "cell_type": "code",
   "execution_count": null,
   "id": "1e28ad56-7da1-48fd-bf63-1190a0e4d136",
   "metadata": {},
   "outputs": [
    {
     "data": {
      "text/html": [
       "<div>\n",
       "<style scoped>\n",
       "    .dataframe tbody tr th:only-of-type {\n",
       "        vertical-align: middle;\n",
       "    }\n",
       "\n",
       "    .dataframe tbody tr th {\n",
       "        vertical-align: top;\n",
       "    }\n",
       "\n",
       "    .dataframe thead th {\n",
       "        text-align: right;\n",
       "    }\n",
       "</style>\n",
       "<table border=\"1\" class=\"dataframe\">\n",
       "  <thead>\n",
       "    <tr style=\"text-align: right;\">\n",
       "      <th></th>\n",
       "      <th>molecule_chembl_id</th>\n",
       "      <th>IC50</th>\n",
       "      <th>units</th>\n",
       "      <th>smiles</th>\n",
       "      <th>pIC50</th>\n",
       "    </tr>\n",
       "  </thead>\n",
       "  <tbody>\n",
       "    <tr>\n",
       "      <th>0</th>\n",
       "      <td>CHEMBL348798</td>\n",
       "      <td>0.002</td>\n",
       "      <td>nM</td>\n",
       "      <td>CC(C)c1c(CC[C@@H](O)C[C@@H](O)CC(=O)[O-])c(-c2...</td>\n",
       "      <td>11.698970</td>\n",
       "    </tr>\n",
       "    <tr>\n",
       "      <th>1</th>\n",
       "      <td>CHEMBL162642</td>\n",
       "      <td>0.014</td>\n",
       "      <td>nM</td>\n",
       "      <td>CC(C)c1c(/C=C/[C@@H](O)C[C@@H](O)CC(=O)[O-])c(...</td>\n",
       "      <td>10.853872</td>\n",
       "    </tr>\n",
       "    <tr>\n",
       "      <th>2</th>\n",
       "      <td>CHEMBL159951</td>\n",
       "      <td>0.018</td>\n",
       "      <td>nM</td>\n",
       "      <td>CC(C)c1c(CC[C@@H](O)C[C@@H](O)CC(=O)[O-])c(-c2...</td>\n",
       "      <td>10.744727</td>\n",
       "    </tr>\n",
       "    <tr>\n",
       "      <th>3</th>\n",
       "      <td>CHEMBL160102</td>\n",
       "      <td>0.050</td>\n",
       "      <td>nM</td>\n",
       "      <td>CC(C)c1c(/C=C/[C@@H](O)C[C@@H](O)CC(=O)[O-])c(...</td>\n",
       "      <td>10.301030</td>\n",
       "    </tr>\n",
       "    <tr>\n",
       "      <th>4</th>\n",
       "      <td>CHEMBL2375155</td>\n",
       "      <td>0.106</td>\n",
       "      <td>nM</td>\n",
       "      <td>CC(C)c1c(/C=C/[C@H](O)C[C@@H](O)CC(=O)[O-])c(-...</td>\n",
       "      <td>9.974694</td>\n",
       "    </tr>\n",
       "  </tbody>\n",
       "</table>\n",
       "</div>"
      ],
      "text/plain": [
       "  molecule_chembl_id   IC50 units  \\\n",
       "0       CHEMBL348798  0.002    nM   \n",
       "1       CHEMBL162642  0.014    nM   \n",
       "2       CHEMBL159951  0.018    nM   \n",
       "3       CHEMBL160102  0.050    nM   \n",
       "4      CHEMBL2375155  0.106    nM   \n",
       "\n",
       "                                              smiles      pIC50  \n",
       "0  CC(C)c1c(CC[C@@H](O)C[C@@H](O)CC(=O)[O-])c(-c2...  11.698970  \n",
       "1  CC(C)c1c(/C=C/[C@@H](O)C[C@@H](O)CC(=O)[O-])c(...  10.853872  \n",
       "2  CC(C)c1c(CC[C@@H](O)C[C@@H](O)CC(=O)[O-])c(-c2...  10.744727  \n",
       "3  CC(C)c1c(/C=C/[C@@H](O)C[C@@H](O)CC(=O)[O-])c(...  10.301030  \n",
       "4  CC(C)c1c(/C=C/[C@H](O)C[C@@H](O)CC(=O)[O-])c(-...   9.974694  "
      ]
     },
     "execution_count": 55,
     "metadata": {},
     "output_type": "execute_result"
    }
   ],
   "source": [
    "output_df.to_csv(DATA / \"DPP4i_compounds.csv\")\n",
    "output_df.head()"
   ]
  },
  {
   "cell_type": "code",
   "execution_count": 56,
   "id": "a3518b8e-35bd-4d08-9260-0117402ce8a8",
   "metadata": {},
   "outputs": [
    {
     "name": "stdout",
     "output_type": "stream",
     "text": [
      "DataFrame shape: (208, 5)\n"
     ]
    }
   ],
   "source": [
    "print(f\"DataFrame shape: {output_df.shape}\")\n",
    "# NBVAL_CHECK_OUTPUT"
   ]
  }
 ],
 "metadata": {
  "kernelspec": {
   "display_name": "Python 3",
   "language": "python",
   "name": "python3"
  },
  "language_info": {
   "codemirror_mode": {
    "name": "ipython",
    "version": 3
   },
   "file_extension": ".py",
   "mimetype": "text/x-python",
   "name": "python",
   "nbconvert_exporter": "python",
   "pygments_lexer": "ipython3",
   "version": "3.7.16"
  }
 },
 "nbformat": 4,
 "nbformat_minor": 5
}
